{
 "cells": [
  {
   "cell_type": "markdown",
   "metadata": {},
   "source": [
    "## Taking Book as Text File and Turning into a Dictionary by Chapter"
   ]
  },
  {
   "cell_type": "code",
   "execution_count": 1,
   "metadata": {
    "pycharm": {
     "is_executing": false
    }
   },
   "outputs": [
    {
     "data": {
      "text/plain": "str"
     },
     "metadata": {},
     "output_type": "execute_result",
     "execution_count": 1
    }
   ],
   "source": [
    "#Loading the text file\n",
    "input_file = open(\"K_Levine_Book_1.txt\" , encoding='utf-8').read()\n",
    "#print(input_file)\n",
    "type(input_file)"
   ]
  },
  {
   "cell_type": "code",
   "execution_count": 2,
   "metadata": {
    "pycharm": {
     "is_executing": false
    }
   },
   "outputs": [
    {
     "traceback": [
      "\u001b[1;31m---------------------------------------------------------------------------\u001b[0m",
      "\u001b[1;31mUnicodeDecodeError\u001b[0m                        Traceback (most recent call last)",
      "\u001b[1;32m<ipython-input-2-341b958a2aa1>\u001b[0m in \u001b[0;36m<module>\u001b[1;34m\u001b[0m\n\u001b[0;32m      2\u001b[0m \u001b[1;32mimport\u001b[0m \u001b[0mre\u001b[0m\u001b[1;33m\u001b[0m\u001b[1;33m\u001b[0m\u001b[0m\n\u001b[0;32m      3\u001b[0m \u001b[0mbook\u001b[0m \u001b[1;33m=\u001b[0m \u001b[0mopen\u001b[0m\u001b[1;33m(\u001b[0m\u001b[1;34m\"K_Levine_Book_1.txt\"\u001b[0m\u001b[1;33m,\u001b[0m \u001b[1;34m\"r\"\u001b[0m\u001b[1;33m)\u001b[0m \u001b[1;31m#Here we open the book, in this case it is called book.txt\u001b[0m\u001b[1;33m\u001b[0m\u001b[1;33m\u001b[0m\u001b[0m\n\u001b[1;32m----> 4\u001b[1;33m \u001b[0mbook\u001b[0m \u001b[1;33m=\u001b[0m \u001b[0mstr\u001b[0m\u001b[1;33m(\u001b[0m\u001b[0mbook\u001b[0m\u001b[1;33m.\u001b[0m\u001b[0mread\u001b[0m\u001b[1;33m(\u001b[0m\u001b[1;33m)\u001b[0m\u001b[1;33m)\u001b[0m \u001b[1;31m#this is now assigning book the value of book.txt, not just the location\u001b[0m\u001b[1;33m\u001b[0m\u001b[1;33m\u001b[0m\u001b[0m\n\u001b[0m\u001b[0;32m      5\u001b[0m \u001b[0mchapters\u001b[0m \u001b[1;33m=\u001b[0m \u001b[0mre\u001b[0m\u001b[1;33m.\u001b[0m\u001b[0msplit\u001b[0m\u001b[1;33m(\u001b[0m\u001b[1;34m\"Chapter \"\u001b[0m\u001b[1;33m,\u001b[0m \u001b[0mbook\u001b[0m\u001b[1;33m,\u001b[0m \u001b[0mflags\u001b[0m \u001b[1;33m=\u001b[0m \u001b[0mre\u001b[0m\u001b[1;33m.\u001b[0m\u001b[0mIGNORECASE\u001b[0m\u001b[1;33m)\u001b[0m \u001b[1;31m#Finds all the chapter markers in the book and makes a list of all the chapters\u001b[0m\u001b[1;33m\u001b[0m\u001b[1;33m\u001b[0m\u001b[0m\n\u001b[0;32m      6\u001b[0m \u001b[0mchapters\u001b[0m\u001b[1;33m.\u001b[0m\u001b[0mpop\u001b[0m\u001b[1;33m(\u001b[0m\u001b[1;36m0\u001b[0m\u001b[1;33m)\u001b[0m \u001b[1;31m# Removes the first item in list as this is \"\"\u001b[0m\u001b[1;33m\u001b[0m\u001b[1;33m\u001b[0m\u001b[0m\n",
      "\u001b[1;32m~\\Anaconda3\\lib\\encodings\\cp1252.py\u001b[0m in \u001b[0;36mdecode\u001b[1;34m(self, input, final)\u001b[0m\n\u001b[0;32m     21\u001b[0m \u001b[1;32mclass\u001b[0m \u001b[0mIncrementalDecoder\u001b[0m\u001b[1;33m(\u001b[0m\u001b[0mcodecs\u001b[0m\u001b[1;33m.\u001b[0m\u001b[0mIncrementalDecoder\u001b[0m\u001b[1;33m)\u001b[0m\u001b[1;33m:\u001b[0m\u001b[1;33m\u001b[0m\u001b[1;33m\u001b[0m\u001b[0m\n\u001b[0;32m     22\u001b[0m     \u001b[1;32mdef\u001b[0m \u001b[0mdecode\u001b[0m\u001b[1;33m(\u001b[0m\u001b[0mself\u001b[0m\u001b[1;33m,\u001b[0m \u001b[0minput\u001b[0m\u001b[1;33m,\u001b[0m \u001b[0mfinal\u001b[0m\u001b[1;33m=\u001b[0m\u001b[1;32mFalse\u001b[0m\u001b[1;33m)\u001b[0m\u001b[1;33m:\u001b[0m\u001b[1;33m\u001b[0m\u001b[1;33m\u001b[0m\u001b[0m\n\u001b[1;32m---> 23\u001b[1;33m         \u001b[1;32mreturn\u001b[0m \u001b[0mcodecs\u001b[0m\u001b[1;33m.\u001b[0m\u001b[0mcharmap_decode\u001b[0m\u001b[1;33m(\u001b[0m\u001b[0minput\u001b[0m\u001b[1;33m,\u001b[0m\u001b[0mself\u001b[0m\u001b[1;33m.\u001b[0m\u001b[0merrors\u001b[0m\u001b[1;33m,\u001b[0m\u001b[0mdecoding_table\u001b[0m\u001b[1;33m)\u001b[0m\u001b[1;33m[\u001b[0m\u001b[1;36m0\u001b[0m\u001b[1;33m]\u001b[0m\u001b[1;33m\u001b[0m\u001b[1;33m\u001b[0m\u001b[0m\n\u001b[0m\u001b[0;32m     24\u001b[0m \u001b[1;33m\u001b[0m\u001b[0m\n\u001b[0;32m     25\u001b[0m \u001b[1;32mclass\u001b[0m \u001b[0mStreamWriter\u001b[0m\u001b[1;33m(\u001b[0m\u001b[0mCodec\u001b[0m\u001b[1;33m,\u001b[0m\u001b[0mcodecs\u001b[0m\u001b[1;33m.\u001b[0m\u001b[0mStreamWriter\u001b[0m\u001b[1;33m)\u001b[0m\u001b[1;33m:\u001b[0m\u001b[1;33m\u001b[0m\u001b[1;33m\u001b[0m\u001b[0m\n",
      "\u001b[1;31mUnicodeDecodeError\u001b[0m: 'charmap' codec can't decode byte 0x9d in position 984: character maps to <undefined>"
     ],
     "ename": "UnicodeDecodeError",
     "evalue": "'charmap' codec can't decode byte 0x9d in position 984: character maps to <undefined>",
     "output_type": "error"
    }
   ],
   "source": [
    "#Split the book into Chapter text files:\n",
    "import re\n",
    "book = open(\"K_Levine_Book_1.txt\", \"r\") #Here we open the book, in this case it is called book.txt\n",
    "book = str(book.read()) #this is now assigning book the value of book.txt, not just the location\n",
    "chapters = re.split(\"Chapter \", book, flags = re.IGNORECASE) #Finds all the chapter markers in the book and makes a list of all the chapters\n",
    "chapters.pop(0) # Removes the first item in list as this is \"\"\n",
    "for i in range(1, len(chapters)+1): #Loops for the number of chapters in the book, starting at chapter 1\n",
    "    writeBook = open(\"{}.txt\".format(i), \"w+\") #Opens a book with the name of i, if it does not exist, it creates one\n",
    "    writeBook.write(chapters[i-1]) #Overwrites what is written in the book with the same chapter in the list\n",
    "    writeBook.close() #Finally, it closes the text file"
   ]
  },
  {
   "cell_type": "code",
   "execution_count": 14,
   "metadata": {},
   "outputs": [],
   "source": [
    "#Note: I moved all the created chapter txt files to a folder called \"Book_1\"\n",
    "\n",
    "import os\n",
    "\n",
    "# point this to the data directory\n",
    "direc = \"/Users/kristinlevine/Desktop/NLP_Project/Book_1/\" \n",
    "ext = '.txt' # Select your file delimiter\n",
    "\n",
    "file_dict = {} # Create an empty dict\n",
    "\n",
    "# Select only files with the ext extension\n",
    "txt_files = [i for i in os.listdir(direc) if os.path.splitext(i)[1] == ext]\n",
    "\n",
    "# Iterate over your txt files\n",
    "for f in txt_files:\n",
    "    # Open them and assign them to file_dict\n",
    "    with open(os.path.join(direc,f)) as file_object:\n",
    "        file_dict[f] = file_object.read()"
   ]
  },
  {
   "cell_type": "code",
   "execution_count": 17,
   "metadata": {},
   "outputs": [
    {
     "name": "stdout",
     "output_type": "stream",
     "text": [
      "1 - THE NEW POSTMASTER\n",
      "\n",
      "      I’ve been wrong before.  Oh heck, if I’m being real honest, I’ve been wrong a lot.  But I ain’t never been so wrong as I was about Emma Walker.  When she first came to town, I thought she was the worst piece of bad luck I’d had since falling in the outhouse on my birthday.  I tell you things were fine in Moundville before Emma got here, least I thought they were.  Guess the truth is, you’ll never know how wrong I was ‘til I’m done telling and explaining – so I’d better just get on with the story.    \n",
      "      My real name is Harry Otis Sims, but everybody calls me Dit.  See when I was little I used to roll a hoop down Main Street, beating it with a stick as I ran along.  One day, two older boys tried to steal my hoop.  I hit them with my stick and told them, “Dit-away.”  They laughed.  “You talk like a baby.  Dit, dit, dit.”  The name stuck. \n",
      "      There are ten children in our family: Della, Ollie, Ulman, Elman, Raymond, me, Earl, Pearl, Robert and Lois.  That’s just too many kids.  There are never leftovers at supper and you never get new clothes.  We don’t even get to go to the store for shoes; Mama just keeps them all in a big old barrel.  When the pair you’re wearing gets too tight, you throw yours in and pick out another one.  With so many kids, sometimes I think my pa don’t even know my name, since it’s always, “Della, Ollie, Ulman, Elman, Raymond, uh, I mean Dit.”  \n",
      "      We all live in a big old house that Pa built himself right off Main Street in Moundville, Alabama.  Most of the people in Moundville are farmers like my pa.  Just about everything grows well in our rich, dark soil, but especially corn and cotton.   Before I even had my nickname, Pa taught me how to count by showing me the number of ears of corn to feed the mule. \n",
      "      Most evenings my whole family, and just about everybody in town, gathers in front of Mrs. Pooley’s General Goods Store to wait for the train.  Mrs. Pooley is the meanest old lady I’ve ever met.  She smokes, spits, and has a temper shorter than a bulldog’s tail.  But her store has a wide, comfortable porch and a great view of the train depot, just across the street.  The evening Emma came, Mrs. Pooley sat in her usual rocker, smoking a pipe with Uncle Wiggens.  \n",
      "      Uncle Wiggens ain’t really my uncle, everyone just calls him that.  He’s over 80 and fought in the War Between the States.  He only has one leg and one hero, General Robert E. Lee.  Uncle Wiggens manages to work Lee’s name into pretty much any old conversation.  You might say, “My, it’s cold today,” and he’d reply, “You think this is cold?  General Lee said it didn’t even qualify as chill, ‘til your breath froze on your nose and made a little icicle.”  He had about five different stories of how he lost his leg, every one of them entertaining.  \n",
      "      That night I was listening to the version that involved him running five Yankees into a bear’s den, as I wound a ball of twine into a baseball.  ‘Course if I’d had the money I could have bought a new ball at Mrs. Pooley’s store, but if you wind twine real careful, it’s almost as good as a real ball. \n",
      "      The new postmaster was coming to town and the grown-ups were as wound up as the kids on Christmas.  The postmaster was in charge of sorting and delivering the mail, but he also sent and received telegrams.  This meant he knew any good gossip long before anybody else.  The last postmaster had been a lazy good-for-nothing; everyone had gotten the wrong mail two days late, ‘til he had finally skipped town for refusing to pay his debts at Mrs. Pooley’s store.  \n",
      "      I was excited too.  The new postmaster, Mr. Walker, was supposed to have a boy who was twelve, just like me.  I sure hoped he liked to play baseball.  It was June, 1917, and my best friend, Chip, had just left to spend the summer with his grandma in Selma.    \n",
      "      My ball of twine got bigger and bigger, ‘til there was a small, little light, far off in the distance.  We all jumped up and ran across the street to the train depot.  There was a flash of copper as the golden eagle on the top of the huge locomotive flew out of the night sky.  The whistle howled, white steam poured out of the engine, and the train came to a slow stop in front of the station.  \n",
      "      A few local men who worked in Tuscaloosa got off first.  Next, a couple of townspeople who had been visiting relatives climbed down the steps.  Finally, a thin girl nobody knew appeared in the doorway of the train.  \n",
      "      The girl looked about my age and wore a fancy navy dress. Her hair was carefully combed and pulled back into a neat braid, tied with a red ribbon.  She clutched a small suitcase of smooth leather.  She was also colored.\n",
      "\n",
      "\n",
      "\n",
      "\n",
      "\n",
      "\n"
     ]
    }
   ],
   "source": [
    "#print(file_dict)\n",
    "print(file_dict['1.txt'])"
   ]
  },
  {
   "cell_type": "code",
   "execution_count": null,
   "metadata": {},
   "outputs": [],
   "source": []
  }
 ],
 "metadata": {
  "kernelspec": {
   "display_name": "Python 3",
   "language": "python",
   "name": "python3"
  },
  "language_info": {
   "codemirror_mode": {
    "name": "ipython",
    "version": 3
   },
   "file_extension": ".py",
   "mimetype": "text/x-python",
   "name": "python",
   "nbconvert_exporter": "python",
   "pygments_lexer": "ipython3",
   "version": "3.7.3"
  }
 },
 "nbformat": 4,
 "nbformat_minor": 2
}