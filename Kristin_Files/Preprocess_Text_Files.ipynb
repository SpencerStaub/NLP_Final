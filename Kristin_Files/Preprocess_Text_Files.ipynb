{
 "cells": [
  {
   "cell_type": "code",
   "execution_count": 1,
   "metadata": {},
   "outputs": [],
   "source": [
    "#Preprocessing Text Files"
   ]
  },
  {
   "cell_type": "code",
   "execution_count": 8,
   "metadata": {},
   "outputs": [],
   "source": [
    "#Good\n",
    "#Create directories for files:\n",
    "import os\n",
    "import os.path\n",
    "import re\n",
    "\n",
    "path_1 = \"/Users/kristinlevine/Documents/GitHub/NLP_Group/Kristin_Files/Book_1/\"\n",
    "path_2 = \"/Users/kristinlevine/Documents/GitHub/NLP_Group/Kristin_Files/Book_2/\"\n",
    "path_3 = \"/Users/kristinlevine/Documents/GitHub/NLP_Group/Kristin_Files/Book_3/\"\n",
    "path_4 = \"/Users/kristinlevine/Documents/GitHub/NLP_Group/Kristin_Files/Book_4/\"\n",
    "path_5 = \"/Users/kristinlevine/Documents/GitHub/NLP_Group/Kristin_Files/Book_5/\"\n",
    "path_6 = \"/Users/kristinlevine/Documents/GitHub/NLP_Group/Kristin_Files/Book_6/\"\n",
    "path_7 = \"/Users/kristinlevine/Documents/GitHub/NLP_Group/Kristin_Files/Book_7/\"\n",
    "path_8 = \"/Users/kristinlevine/Documents/GitHub/NLP_Group/Kristin_Files/Book_8/\"\n",
    "\n",
    "list_of_paths = [path_1, path_2, path_3, path_4, path_5, path_6, path_7, path_8]\n",
    "list_of_files = [\"K_Levine_Book_1.txt\", \"K_Levine_Book_2.txt\", \"K_Levine_Book_3.txt\", \"K_Levine_Book_4.txt\", \"Anne_Green_Gables.txt\", \"Little_Women.txt\", \"Wizard_Oz.txt\", \"Secret_Garden.txt\"]\n",
    "\n",
    "for i in range(len(list_of_paths)):\n",
    "    if not os.path.exists(list_of_paths[i]):\n",
    "        os.makedirs(list_of_paths[i])"
   ]
  },
  {
   "cell_type": "code",
   "execution_count": 9,
   "metadata": {},
   "outputs": [],
   "source": [
    "#Splitting the files \n",
    "for f in range(len(list_of_files)):\n",
    "    book = open(list_of_files[f], \"r\") #Here we open the book, in this case it is called book.txt\n",
    "    book = str(book.read()) #this is now assigning book the value of book.txt, not just the location\n",
    "    chapters = re.split(\"CHAPTER\", book, flags = re.IGNORECASE) #Finds all the chapter markers in the book and makes a list of all the chapters\n",
    "    chapters.pop(0) # Removes the first item in list as this is \"\"\n",
    "    for i in range(1, len(chapters)+1): #Loops for the number of chapters in the book, starting at chapter 1  \n",
    "        completeName = os.path.join(list_of_paths[f], \"{}.txt\".format(i))\n",
    "        writeBook = open(completeName, \"w+\") #Opens a book with the name of i, if it does not exist, it creates one\n",
    "        writeBook.write(chapters[i-1]) #Overwrites what is written in the book with the same chapter in the list\n",
    "        writeBook.close() #Finally, it closes the text file"
   ]
  },
  {
   "cell_type": "code",
   "execution_count": 3,
   "metadata": {},
   "outputs": [],
   "source": [
    "list_of_paths = [path_2, path_3]\n",
    "list_of_files = [\"K_Levine_Book_2.txt\", \"K_Levine_Book_3.txt\"]\n",
    "\n",
    "\n",
    "#Splitting the files \n",
    "for f in range(len(list_of_files)):\n",
    "    book = open(list_of_files[f], \"r\") #Here we open the book, in this case it is called book.txt\n",
    "    book = str(book.read()) #this is now assigning book the value of book.txt, not just the location\n",
    "    chapters = re.split('\\n\\d', book, flags = re.IGNORECASE) #Finds all the chapter markers in the book and makes a list of all the chapters\n",
    "    chapters.pop(0) # Removes the first item in list as this is \"\"\n",
    "    for i in range(1, len(chapters)+1): #Loops for the number of chapters in the book, starting at chapter 1  \n",
    "        completeName = os.path.join(list_of_paths[f], \"{}.txt\".format(i))\n",
    "        writeBook = open(completeName, \"w+\") #Opens a book with the name of i, if it does not exist, it creates one\n",
    "        writeBook.write(chapters[i-1]) #Overwrites what is written in the book with the same chapter in the list\n",
    "        writeBook.close() #Finally, it closes the text file"
   ]
  },
  {
   "cell_type": "code",
   "execution_count": null,
   "metadata": {},
   "outputs": [],
   "source": []
  }
 ],
 "metadata": {
  "kernelspec": {
   "display_name": "Python 3",
   "language": "python",
   "name": "python3"
  },
  "language_info": {
   "codemirror_mode": {
    "name": "ipython",
    "version": 3
   },
   "file_extension": ".py",
   "mimetype": "text/x-python",
   "name": "python",
   "nbconvert_exporter": "python",
   "pygments_lexer": "ipython3",
   "version": "3.7.3"
  }
 },
 "nbformat": 4,
 "nbformat_minor": 2
}
